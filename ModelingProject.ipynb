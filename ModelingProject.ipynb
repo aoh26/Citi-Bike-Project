{
 "cells": [
  {
   "cell_type": "code",
   "execution_count": 1,
   "metadata": {
    "id": "zsv5sP4jsMbY"
   },
   "outputs": [],
   "source": [
    "import numpy as np\n",
    "import pandas as pd"
   ]
  },
  {
   "cell_type": "code",
   "execution_count": 2,
   "metadata": {
    "colab": {
     "base_uri": "https://localhost:8080/",
     "height": 392
    },
    "id": "SF_aQCCMsQsT",
    "outputId": "69984d0c-fa0f-489f-95a5-730ddfc67b16"
   },
   "outputs": [
    {
     "name": "stderr",
     "output_type": "stream",
     "text": [
      "/Users/Abe/opt/anaconda3/lib/python3.8/site-packages/IPython/core/interactiveshell.py:3165: DtypeWarning: Columns (7) have mixed types.Specify dtype option on import or set low_memory=False.\n",
      "  has_raised = await self.run_ast_nodes(code_ast.body, cell_name,\n"
     ]
    }
   ],
   "source": [
    "data_path = \"202107-citibike-tripdata.csv\"\n",
    "df = pd.read_csv(data_path)"
   ]
  },
  {
   "cell_type": "code",
   "execution_count": 3,
   "metadata": {
    "colab": {
     "base_uri": "https://localhost:8080/"
    },
    "id": "a3ZfdU_s4N8u",
    "outputId": "95926e84-97cb-4182-a114-893a7fae4d10"
   },
   "outputs": [
    {
     "data": {
      "text/plain": [
       "3084537"
      ]
     },
     "execution_count": 3,
     "metadata": {},
     "output_type": "execute_result"
    }
   ],
   "source": [
    "df.shape\n",
    "n = df.shape[0]\n",
    "n ####BE SURE TO RECOMPUTE THIS AFTER WE FILTER OUT RIDES"
   ]
  },
  {
   "cell_type": "code",
   "execution_count": 4,
   "metadata": {
    "colab": {
     "base_uri": "https://localhost:8080/",
     "height": 394
    },
    "id": "5K516Rmwsh9p",
    "outputId": "fb8d8b3d-2e95-4497-e2d6-d10d4c5512dc"
   },
   "outputs": [
    {
     "data": {
      "text/html": [
       "<div>\n",
       "<style scoped>\n",
       "    .dataframe tbody tr th:only-of-type {\n",
       "        vertical-align: middle;\n",
       "    }\n",
       "\n",
       "    .dataframe tbody tr th {\n",
       "        vertical-align: top;\n",
       "    }\n",
       "\n",
       "    .dataframe thead th {\n",
       "        text-align: right;\n",
       "    }\n",
       "</style>\n",
       "<table border=\"1\" class=\"dataframe\">\n",
       "  <thead>\n",
       "    <tr style=\"text-align: right;\">\n",
       "      <th></th>\n",
       "      <th>ride_id</th>\n",
       "      <th>rideable_type</th>\n",
       "      <th>started_at</th>\n",
       "      <th>ended_at</th>\n",
       "      <th>start_station_name</th>\n",
       "      <th>start_station_id</th>\n",
       "      <th>end_station_name</th>\n",
       "      <th>end_station_id</th>\n",
       "      <th>start_lat</th>\n",
       "      <th>start_lng</th>\n",
       "      <th>end_lat</th>\n",
       "      <th>end_lng</th>\n",
       "      <th>member_casual</th>\n",
       "    </tr>\n",
       "  </thead>\n",
       "  <tbody>\n",
       "    <tr>\n",
       "      <th>0</th>\n",
       "      <td>247BA541A9674BF3</td>\n",
       "      <td>classic_bike</td>\n",
       "      <td>2021-07-09 16:05:36</td>\n",
       "      <td>2021-07-09 16:18:09</td>\n",
       "      <td>5 Ave &amp; E 93 St</td>\n",
       "      <td>7372.10</td>\n",
       "      <td>Frederick Douglass Blvd &amp; W 117 St</td>\n",
       "      <td>7688.12</td>\n",
       "      <td>40.785785</td>\n",
       "      <td>-73.957481</td>\n",
       "      <td>40.805159</td>\n",
       "      <td>-73.954692</td>\n",
       "      <td>member</td>\n",
       "    </tr>\n",
       "    <tr>\n",
       "      <th>1</th>\n",
       "      <td>125C9ACA270A5E2D</td>\n",
       "      <td>classic_bike</td>\n",
       "      <td>2021-07-11 16:23:35</td>\n",
       "      <td>2021-07-11 16:29:07</td>\n",
       "      <td>5 Ave &amp; E 93 St</td>\n",
       "      <td>7372.10</td>\n",
       "      <td>E 88 St &amp; Park Ave</td>\n",
       "      <td>7293.10</td>\n",
       "      <td>40.785785</td>\n",
       "      <td>-73.957481</td>\n",
       "      <td>40.781411</td>\n",
       "      <td>-73.955959</td>\n",
       "      <td>member</td>\n",
       "    </tr>\n",
       "    <tr>\n",
       "      <th>2</th>\n",
       "      <td>2E26264BCC15BA05</td>\n",
       "      <td>classic_bike</td>\n",
       "      <td>2021-07-23 06:22:40</td>\n",
       "      <td>2021-07-23 06:36:13</td>\n",
       "      <td>34 St &amp; 38 Ave</td>\n",
       "      <td>6453.02</td>\n",
       "      <td>McGuinness Blvd &amp; Eagle St</td>\n",
       "      <td>5977.01</td>\n",
       "      <td>40.752443</td>\n",
       "      <td>-73.929737</td>\n",
       "      <td>40.735550</td>\n",
       "      <td>-73.952840</td>\n",
       "      <td>member</td>\n",
       "    </tr>\n",
       "    <tr>\n",
       "      <th>3</th>\n",
       "      <td>A56D23A088563424</td>\n",
       "      <td>classic_bike</td>\n",
       "      <td>2021-07-05 16:08:10</td>\n",
       "      <td>2021-07-05 16:36:00</td>\n",
       "      <td>Lenox Ave &amp; W 111 St</td>\n",
       "      <td>7602.05</td>\n",
       "      <td>5 Ave &amp; E 78 St</td>\n",
       "      <td>7161.08</td>\n",
       "      <td>40.798786</td>\n",
       "      <td>-73.952300</td>\n",
       "      <td>40.776321</td>\n",
       "      <td>-73.964274</td>\n",
       "      <td>casual</td>\n",
       "    </tr>\n",
       "    <tr>\n",
       "      <th>4</th>\n",
       "      <td>1451F4BB884C5335</td>\n",
       "      <td>classic_bike</td>\n",
       "      <td>2021-07-26 12:28:57</td>\n",
       "      <td>2021-07-26 12:30:21</td>\n",
       "      <td>6 Ave &amp; Broome St</td>\n",
       "      <td>5610.09</td>\n",
       "      <td>6 Ave &amp; Canal St</td>\n",
       "      <td>5500.07</td>\n",
       "      <td>40.724310</td>\n",
       "      <td>-74.004730</td>\n",
       "      <td>40.722438</td>\n",
       "      <td>-74.005664</td>\n",
       "      <td>casual</td>\n",
       "    </tr>\n",
       "  </tbody>\n",
       "</table>\n",
       "</div>"
      ],
      "text/plain": [
       "            ride_id rideable_type           started_at             ended_at  \\\n",
       "0  247BA541A9674BF3  classic_bike  2021-07-09 16:05:36  2021-07-09 16:18:09   \n",
       "1  125C9ACA270A5E2D  classic_bike  2021-07-11 16:23:35  2021-07-11 16:29:07   \n",
       "2  2E26264BCC15BA05  classic_bike  2021-07-23 06:22:40  2021-07-23 06:36:13   \n",
       "3  A56D23A088563424  classic_bike  2021-07-05 16:08:10  2021-07-05 16:36:00   \n",
       "4  1451F4BB884C5335  classic_bike  2021-07-26 12:28:57  2021-07-26 12:30:21   \n",
       "\n",
       "     start_station_name  start_station_id                    end_station_name  \\\n",
       "0       5 Ave & E 93 St           7372.10  Frederick Douglass Blvd & W 117 St   \n",
       "1       5 Ave & E 93 St           7372.10                  E 88 St & Park Ave   \n",
       "2        34 St & 38 Ave           6453.02          McGuinness Blvd & Eagle St   \n",
       "3  Lenox Ave & W 111 St           7602.05                     5 Ave & E 78 St   \n",
       "4     6 Ave & Broome St           5610.09                    6 Ave & Canal St   \n",
       "\n",
       "  end_station_id  start_lat  start_lng    end_lat    end_lng member_casual  \n",
       "0        7688.12  40.785785 -73.957481  40.805159 -73.954692        member  \n",
       "1        7293.10  40.785785 -73.957481  40.781411 -73.955959        member  \n",
       "2        5977.01  40.752443 -73.929737  40.735550 -73.952840        member  \n",
       "3        7161.08  40.798786 -73.952300  40.776321 -73.964274        casual  \n",
       "4        5500.07  40.724310 -74.004730  40.722438 -74.005664        casual  "
      ]
     },
     "execution_count": 4,
     "metadata": {},
     "output_type": "execute_result"
    }
   ],
   "source": [
    "df.head()"
   ]
  },
  {
   "cell_type": "code",
   "execution_count": 5,
   "metadata": {
    "colab": {
     "base_uri": "https://localhost:8080/",
     "height": 452
    },
    "id": "-KUU5SFHwZjZ",
    "outputId": "d1c75a07-21f9-470e-ccf1-32b76c8735bb"
   },
   "outputs": [
    {
     "data": {
      "text/html": [
       "<div>\n",
       "<style scoped>\n",
       "    .dataframe tbody tr th:only-of-type {\n",
       "        vertical-align: middle;\n",
       "    }\n",
       "\n",
       "    .dataframe tbody tr th {\n",
       "        vertical-align: top;\n",
       "    }\n",
       "\n",
       "    .dataframe thead th {\n",
       "        text-align: right;\n",
       "    }\n",
       "</style>\n",
       "<table border=\"1\" class=\"dataframe\">\n",
       "  <thead>\n",
       "    <tr style=\"text-align: right;\">\n",
       "      <th></th>\n",
       "      <th>Column Name</th>\n",
       "      <th>Unique</th>\n",
       "      <th>Data Type</th>\n",
       "      <th>Memory Usage</th>\n",
       "    </tr>\n",
       "  </thead>\n",
       "  <tbody>\n",
       "    <tr>\n",
       "      <th>0</th>\n",
       "      <td>ride_id</td>\n",
       "      <td>3084537</td>\n",
       "      <td>object</td>\n",
       "      <td>225171329</td>\n",
       "    </tr>\n",
       "    <tr>\n",
       "      <th>1</th>\n",
       "      <td>rideable_type</td>\n",
       "      <td>3</td>\n",
       "      <td>object</td>\n",
       "      <td>212794384</td>\n",
       "    </tr>\n",
       "    <tr>\n",
       "      <th>2</th>\n",
       "      <td>started_at</td>\n",
       "      <td>1558050</td>\n",
       "      <td>object</td>\n",
       "      <td>234424940</td>\n",
       "    </tr>\n",
       "    <tr>\n",
       "      <th>3</th>\n",
       "      <td>ended_at</td>\n",
       "      <td>1560576</td>\n",
       "      <td>object</td>\n",
       "      <td>234424940</td>\n",
       "    </tr>\n",
       "    <tr>\n",
       "      <th>4</th>\n",
       "      <td>start_station_name</td>\n",
       "      <td>1492</td>\n",
       "      <td>object</td>\n",
       "      <td>237703352</td>\n",
       "    </tr>\n",
       "    <tr>\n",
       "      <th>5</th>\n",
       "      <td>start_station_id</td>\n",
       "      <td>1487</td>\n",
       "      <td>float64</td>\n",
       "      <td>24676424</td>\n",
       "    </tr>\n",
       "    <tr>\n",
       "      <th>6</th>\n",
       "      <td>end_station_name</td>\n",
       "      <td>1520</td>\n",
       "      <td>object</td>\n",
       "      <td>237106992</td>\n",
       "    </tr>\n",
       "    <tr>\n",
       "      <th>7</th>\n",
       "      <td>end_station_id</td>\n",
       "      <td>2595</td>\n",
       "      <td>object</td>\n",
       "      <td>151133715</td>\n",
       "    </tr>\n",
       "    <tr>\n",
       "      <th>8</th>\n",
       "      <td>start_lat</td>\n",
       "      <td>2148</td>\n",
       "      <td>float64</td>\n",
       "      <td>24676424</td>\n",
       "    </tr>\n",
       "    <tr>\n",
       "      <th>9</th>\n",
       "      <td>start_lng</td>\n",
       "      <td>2138</td>\n",
       "      <td>float64</td>\n",
       "      <td>24676424</td>\n",
       "    </tr>\n",
       "    <tr>\n",
       "      <th>10</th>\n",
       "      <td>end_lat</td>\n",
       "      <td>2205</td>\n",
       "      <td>float64</td>\n",
       "      <td>24676424</td>\n",
       "    </tr>\n",
       "    <tr>\n",
       "      <th>11</th>\n",
       "      <td>end_lng</td>\n",
       "      <td>2187</td>\n",
       "      <td>float64</td>\n",
       "      <td>24676424</td>\n",
       "    </tr>\n",
       "    <tr>\n",
       "      <th>12</th>\n",
       "      <td>member_casual</td>\n",
       "      <td>2</td>\n",
       "      <td>object</td>\n",
       "      <td>194325959</td>\n",
       "    </tr>\n",
       "  </tbody>\n",
       "</table>\n",
       "</div>"
      ],
      "text/plain": [
       "           Column Name   Unique Data Type  Memory Usage\n",
       "0              ride_id  3084537    object     225171329\n",
       "1        rideable_type        3    object     212794384\n",
       "2           started_at  1558050    object     234424940\n",
       "3             ended_at  1560576    object     234424940\n",
       "4   start_station_name     1492    object     237703352\n",
       "5     start_station_id     1487   float64      24676424\n",
       "6     end_station_name     1520    object     237106992\n",
       "7       end_station_id     2595    object     151133715\n",
       "8            start_lat     2148   float64      24676424\n",
       "9            start_lng     2138   float64      24676424\n",
       "10             end_lat     2205   float64      24676424\n",
       "11             end_lng     2187   float64      24676424\n",
       "12       member_casual        2    object     194325959"
      ]
     },
     "execution_count": 5,
     "metadata": {},
     "output_type": "execute_result"
    }
   ],
   "source": [
    "pd.DataFrame.from_records([(col, df[col].nunique(), df[col].dtype, df[col].memory_usage(deep=True) )  for col in df.columns],\n",
    "  columns=['Column Name', 'Unique', 'Data Type','Memory Usage'])"
   ]
  },
  {
   "cell_type": "code",
   "execution_count": 6,
   "metadata": {
    "id": "sevSnsztz3-N"
   },
   "outputs": [],
   "source": [
    "# df['started_at'][0].split(\" \")[1]"
   ]
  },
  {
   "cell_type": "code",
   "execution_count": 7,
   "metadata": {
    "id": "QnxQNSbIsrID"
   },
   "outputs": [],
   "source": [
    "df['started_at'] = pd.to_datetime(df['started_at'])"
   ]
  },
  {
   "cell_type": "code",
   "execution_count": 8,
   "metadata": {
    "id": "tsnYukjZxN3_"
   },
   "outputs": [],
   "source": [
    "df = df[df['ended_at'] != \"2021-07-09 09:21:\"]"
   ]
  },
  {
   "cell_type": "code",
   "execution_count": 9,
   "metadata": {
    "id": "iPRxlyiiwdq7"
   },
   "outputs": [],
   "source": [
    "df['ended_at'] = pd.to_datetime(df['ended_at'])"
   ]
  },
  {
   "cell_type": "code",
   "execution_count": 10,
   "metadata": {
    "colab": {
     "base_uri": "https://localhost:8080/",
     "height": 419
    },
    "id": "Ka_EGEegzQYh",
    "outputId": "ac19038b-112b-4193-fa80-7e815c9db729"
   },
   "outputs": [
    {
     "data": {
      "text/html": [
       "<div>\n",
       "<style scoped>\n",
       "    .dataframe tbody tr th:only-of-type {\n",
       "        vertical-align: middle;\n",
       "    }\n",
       "\n",
       "    .dataframe tbody tr th {\n",
       "        vertical-align: top;\n",
       "    }\n",
       "\n",
       "    .dataframe thead th {\n",
       "        text-align: right;\n",
       "    }\n",
       "</style>\n",
       "<table border=\"1\" class=\"dataframe\">\n",
       "  <thead>\n",
       "    <tr style=\"text-align: right;\">\n",
       "      <th></th>\n",
       "      <th>started_at</th>\n",
       "      <th>ended_at</th>\n",
       "    </tr>\n",
       "  </thead>\n",
       "  <tbody>\n",
       "    <tr>\n",
       "      <th>0</th>\n",
       "      <td>2021-07-09 16:05:36</td>\n",
       "      <td>2021-07-09 16:18:09</td>\n",
       "    </tr>\n",
       "    <tr>\n",
       "      <th>1</th>\n",
       "      <td>2021-07-11 16:23:35</td>\n",
       "      <td>2021-07-11 16:29:07</td>\n",
       "    </tr>\n",
       "    <tr>\n",
       "      <th>2</th>\n",
       "      <td>2021-07-23 06:22:40</td>\n",
       "      <td>2021-07-23 06:36:13</td>\n",
       "    </tr>\n",
       "    <tr>\n",
       "      <th>3</th>\n",
       "      <td>2021-07-05 16:08:10</td>\n",
       "      <td>2021-07-05 16:36:00</td>\n",
       "    </tr>\n",
       "    <tr>\n",
       "      <th>4</th>\n",
       "      <td>2021-07-26 12:28:57</td>\n",
       "      <td>2021-07-26 12:30:21</td>\n",
       "    </tr>\n",
       "    <tr>\n",
       "      <th>...</th>\n",
       "      <td>...</td>\n",
       "      <td>...</td>\n",
       "    </tr>\n",
       "    <tr>\n",
       "      <th>3084532</th>\n",
       "      <td>2021-07-08 14:08:12</td>\n",
       "      <td>2021-07-08 14:35:15</td>\n",
       "    </tr>\n",
       "    <tr>\n",
       "      <th>3084533</th>\n",
       "      <td>2021-07-24 12:26:49</td>\n",
       "      <td>2021-07-24 12:47:18</td>\n",
       "    </tr>\n",
       "    <tr>\n",
       "      <th>3084534</th>\n",
       "      <td>2021-07-04 17:11:16</td>\n",
       "      <td>2021-07-04 17:18:23</td>\n",
       "    </tr>\n",
       "    <tr>\n",
       "      <th>3084535</th>\n",
       "      <td>2021-07-30 09:43:46</td>\n",
       "      <td>2021-07-30 09:57:50</td>\n",
       "    </tr>\n",
       "    <tr>\n",
       "      <th>3084536</th>\n",
       "      <td>2021-07-05 17:02:26</td>\n",
       "      <td>2021-07-05 17:20:23</td>\n",
       "    </tr>\n",
       "  </tbody>\n",
       "</table>\n",
       "<p>3084537 rows × 2 columns</p>\n",
       "</div>"
      ],
      "text/plain": [
       "                 started_at            ended_at\n",
       "0       2021-07-09 16:05:36 2021-07-09 16:18:09\n",
       "1       2021-07-11 16:23:35 2021-07-11 16:29:07\n",
       "2       2021-07-23 06:22:40 2021-07-23 06:36:13\n",
       "3       2021-07-05 16:08:10 2021-07-05 16:36:00\n",
       "4       2021-07-26 12:28:57 2021-07-26 12:30:21\n",
       "...                     ...                 ...\n",
       "3084532 2021-07-08 14:08:12 2021-07-08 14:35:15\n",
       "3084533 2021-07-24 12:26:49 2021-07-24 12:47:18\n",
       "3084534 2021-07-04 17:11:16 2021-07-04 17:18:23\n",
       "3084535 2021-07-30 09:43:46 2021-07-30 09:57:50\n",
       "3084536 2021-07-05 17:02:26 2021-07-05 17:20:23\n",
       "\n",
       "[3084537 rows x 2 columns]"
      ]
     },
     "execution_count": 10,
     "metadata": {},
     "output_type": "execute_result"
    }
   ],
   "source": [
    "df[['started_at', 'ended_at']]"
   ]
  },
  {
   "cell_type": "code",
   "execution_count": 11,
   "metadata": {
    "id": "jj7BKjAathlC"
   },
   "outputs": [],
   "source": [
    "df['duration'] = df['ended_at'] - df['started_at']"
   ]
  },
  {
   "cell_type": "code",
   "execution_count": 12,
   "metadata": {
    "colab": {
     "base_uri": "https://localhost:8080/",
     "height": 483
    },
    "id": "eqgsfWVc3RV6",
    "outputId": "bd88d3bb-e618-42f0-e777-39f726f7c500"
   },
   "outputs": [
    {
     "data": {
      "text/html": [
       "<div>\n",
       "<style scoped>\n",
       "    .dataframe tbody tr th:only-of-type {\n",
       "        vertical-align: middle;\n",
       "    }\n",
       "\n",
       "    .dataframe tbody tr th {\n",
       "        vertical-align: top;\n",
       "    }\n",
       "\n",
       "    .dataframe thead th {\n",
       "        text-align: right;\n",
       "    }\n",
       "</style>\n",
       "<table border=\"1\" class=\"dataframe\">\n",
       "  <thead>\n",
       "    <tr style=\"text-align: right;\">\n",
       "      <th></th>\n",
       "      <th>Column Name</th>\n",
       "      <th>Unique</th>\n",
       "      <th>Data Type</th>\n",
       "      <th>Memory Usage</th>\n",
       "    </tr>\n",
       "  </thead>\n",
       "  <tbody>\n",
       "    <tr>\n",
       "      <th>0</th>\n",
       "      <td>ride_id</td>\n",
       "      <td>3084537</td>\n",
       "      <td>object</td>\n",
       "      <td>249847497</td>\n",
       "    </tr>\n",
       "    <tr>\n",
       "      <th>1</th>\n",
       "      <td>rideable_type</td>\n",
       "      <td>3</td>\n",
       "      <td>object</td>\n",
       "      <td>237470552</td>\n",
       "    </tr>\n",
       "    <tr>\n",
       "      <th>2</th>\n",
       "      <td>started_at</td>\n",
       "      <td>1558050</td>\n",
       "      <td>datetime64[ns]</td>\n",
       "      <td>49352592</td>\n",
       "    </tr>\n",
       "    <tr>\n",
       "      <th>3</th>\n",
       "      <td>ended_at</td>\n",
       "      <td>1560576</td>\n",
       "      <td>datetime64[ns]</td>\n",
       "      <td>49352592</td>\n",
       "    </tr>\n",
       "    <tr>\n",
       "      <th>4</th>\n",
       "      <td>start_station_name</td>\n",
       "      <td>1492</td>\n",
       "      <td>object</td>\n",
       "      <td>262379520</td>\n",
       "    </tr>\n",
       "    <tr>\n",
       "      <th>5</th>\n",
       "      <td>start_station_id</td>\n",
       "      <td>1487</td>\n",
       "      <td>float64</td>\n",
       "      <td>49352592</td>\n",
       "    </tr>\n",
       "    <tr>\n",
       "      <th>6</th>\n",
       "      <td>end_station_name</td>\n",
       "      <td>1520</td>\n",
       "      <td>object</td>\n",
       "      <td>261783160</td>\n",
       "    </tr>\n",
       "    <tr>\n",
       "      <th>7</th>\n",
       "      <td>end_station_id</td>\n",
       "      <td>2595</td>\n",
       "      <td>object</td>\n",
       "      <td>175809883</td>\n",
       "    </tr>\n",
       "    <tr>\n",
       "      <th>8</th>\n",
       "      <td>start_lat</td>\n",
       "      <td>2148</td>\n",
       "      <td>float64</td>\n",
       "      <td>49352592</td>\n",
       "    </tr>\n",
       "    <tr>\n",
       "      <th>9</th>\n",
       "      <td>start_lng</td>\n",
       "      <td>2138</td>\n",
       "      <td>float64</td>\n",
       "      <td>49352592</td>\n",
       "    </tr>\n",
       "    <tr>\n",
       "      <th>10</th>\n",
       "      <td>end_lat</td>\n",
       "      <td>2205</td>\n",
       "      <td>float64</td>\n",
       "      <td>49352592</td>\n",
       "    </tr>\n",
       "    <tr>\n",
       "      <th>11</th>\n",
       "      <td>end_lng</td>\n",
       "      <td>2187</td>\n",
       "      <td>float64</td>\n",
       "      <td>49352592</td>\n",
       "    </tr>\n",
       "    <tr>\n",
       "      <th>12</th>\n",
       "      <td>member_casual</td>\n",
       "      <td>2</td>\n",
       "      <td>object</td>\n",
       "      <td>219002127</td>\n",
       "    </tr>\n",
       "    <tr>\n",
       "      <th>13</th>\n",
       "      <td>duration</td>\n",
       "      <td>17629</td>\n",
       "      <td>timedelta64[ns]</td>\n",
       "      <td>49352592</td>\n",
       "    </tr>\n",
       "  </tbody>\n",
       "</table>\n",
       "</div>"
      ],
      "text/plain": [
       "           Column Name   Unique        Data Type  Memory Usage\n",
       "0              ride_id  3084537           object     249847497\n",
       "1        rideable_type        3           object     237470552\n",
       "2           started_at  1558050   datetime64[ns]      49352592\n",
       "3             ended_at  1560576   datetime64[ns]      49352592\n",
       "4   start_station_name     1492           object     262379520\n",
       "5     start_station_id     1487          float64      49352592\n",
       "6     end_station_name     1520           object     261783160\n",
       "7       end_station_id     2595           object     175809883\n",
       "8            start_lat     2148          float64      49352592\n",
       "9            start_lng     2138          float64      49352592\n",
       "10             end_lat     2205          float64      49352592\n",
       "11             end_lng     2187          float64      49352592\n",
       "12       member_casual        2           object     219002127\n",
       "13            duration    17629  timedelta64[ns]      49352592"
      ]
     },
     "execution_count": 12,
     "metadata": {},
     "output_type": "execute_result"
    }
   ],
   "source": [
    "pd.DataFrame.from_records([(col, df[col].nunique(), df[col].dtype, df[col].memory_usage(deep=True) )  for col in df.columns],\n",
    "  columns=['Column Name', 'Unique', 'Data Type','Memory Usage'])"
   ]
  },
  {
   "cell_type": "code",
   "execution_count": 13,
   "metadata": {
    "colab": {
     "base_uri": "https://localhost:8080/"
    },
    "id": "ME15x_BM2uHn",
    "outputId": "f29dcd09-6fe5-42a5-91bf-d197716de6e5"
   },
   "outputs": [
    {
     "data": {
      "text/plain": [
       "12.55"
      ]
     },
     "execution_count": 13,
     "metadata": {},
     "output_type": "execute_result"
    }
   ],
   "source": [
    "df['duration'][0].total_seconds()/60"
   ]
  },
  {
   "cell_type": "code",
   "execution_count": 14,
   "metadata": {
    "id": "jKtVKa7J3Va0"
   },
   "outputs": [],
   "source": [
    "df['duration'] = df['duration'].dt.total_seconds()/60"
   ]
  },
  {
   "cell_type": "code",
   "execution_count": 15,
   "metadata": {
    "colab": {
     "base_uri": "https://localhost:8080/",
     "height": 394
    },
    "id": "0Om0yEdCtirI",
    "outputId": "09a748c7-3bb4-431b-abae-72319de7907d"
   },
   "outputs": [
    {
     "data": {
      "text/html": [
       "<div>\n",
       "<style scoped>\n",
       "    .dataframe tbody tr th:only-of-type {\n",
       "        vertical-align: middle;\n",
       "    }\n",
       "\n",
       "    .dataframe tbody tr th {\n",
       "        vertical-align: top;\n",
       "    }\n",
       "\n",
       "    .dataframe thead th {\n",
       "        text-align: right;\n",
       "    }\n",
       "</style>\n",
       "<table border=\"1\" class=\"dataframe\">\n",
       "  <thead>\n",
       "    <tr style=\"text-align: right;\">\n",
       "      <th></th>\n",
       "      <th>ride_id</th>\n",
       "      <th>rideable_type</th>\n",
       "      <th>started_at</th>\n",
       "      <th>ended_at</th>\n",
       "      <th>start_station_name</th>\n",
       "      <th>start_station_id</th>\n",
       "      <th>end_station_name</th>\n",
       "      <th>end_station_id</th>\n",
       "      <th>start_lat</th>\n",
       "      <th>start_lng</th>\n",
       "      <th>end_lat</th>\n",
       "      <th>end_lng</th>\n",
       "      <th>member_casual</th>\n",
       "      <th>duration</th>\n",
       "    </tr>\n",
       "  </thead>\n",
       "  <tbody>\n",
       "    <tr>\n",
       "      <th>0</th>\n",
       "      <td>247BA541A9674BF3</td>\n",
       "      <td>classic_bike</td>\n",
       "      <td>2021-07-09 16:05:36</td>\n",
       "      <td>2021-07-09 16:18:09</td>\n",
       "      <td>5 Ave &amp; E 93 St</td>\n",
       "      <td>7372.10</td>\n",
       "      <td>Frederick Douglass Blvd &amp; W 117 St</td>\n",
       "      <td>7688.12</td>\n",
       "      <td>40.785785</td>\n",
       "      <td>-73.957481</td>\n",
       "      <td>40.805159</td>\n",
       "      <td>-73.954692</td>\n",
       "      <td>member</td>\n",
       "      <td>12.550000</td>\n",
       "    </tr>\n",
       "    <tr>\n",
       "      <th>1</th>\n",
       "      <td>125C9ACA270A5E2D</td>\n",
       "      <td>classic_bike</td>\n",
       "      <td>2021-07-11 16:23:35</td>\n",
       "      <td>2021-07-11 16:29:07</td>\n",
       "      <td>5 Ave &amp; E 93 St</td>\n",
       "      <td>7372.10</td>\n",
       "      <td>E 88 St &amp; Park Ave</td>\n",
       "      <td>7293.10</td>\n",
       "      <td>40.785785</td>\n",
       "      <td>-73.957481</td>\n",
       "      <td>40.781411</td>\n",
       "      <td>-73.955959</td>\n",
       "      <td>member</td>\n",
       "      <td>5.533333</td>\n",
       "    </tr>\n",
       "    <tr>\n",
       "      <th>2</th>\n",
       "      <td>2E26264BCC15BA05</td>\n",
       "      <td>classic_bike</td>\n",
       "      <td>2021-07-23 06:22:40</td>\n",
       "      <td>2021-07-23 06:36:13</td>\n",
       "      <td>34 St &amp; 38 Ave</td>\n",
       "      <td>6453.02</td>\n",
       "      <td>McGuinness Blvd &amp; Eagle St</td>\n",
       "      <td>5977.01</td>\n",
       "      <td>40.752443</td>\n",
       "      <td>-73.929737</td>\n",
       "      <td>40.735550</td>\n",
       "      <td>-73.952840</td>\n",
       "      <td>member</td>\n",
       "      <td>13.550000</td>\n",
       "    </tr>\n",
       "    <tr>\n",
       "      <th>3</th>\n",
       "      <td>A56D23A088563424</td>\n",
       "      <td>classic_bike</td>\n",
       "      <td>2021-07-05 16:08:10</td>\n",
       "      <td>2021-07-05 16:36:00</td>\n",
       "      <td>Lenox Ave &amp; W 111 St</td>\n",
       "      <td>7602.05</td>\n",
       "      <td>5 Ave &amp; E 78 St</td>\n",
       "      <td>7161.08</td>\n",
       "      <td>40.798786</td>\n",
       "      <td>-73.952300</td>\n",
       "      <td>40.776321</td>\n",
       "      <td>-73.964274</td>\n",
       "      <td>casual</td>\n",
       "      <td>27.833333</td>\n",
       "    </tr>\n",
       "    <tr>\n",
       "      <th>4</th>\n",
       "      <td>1451F4BB884C5335</td>\n",
       "      <td>classic_bike</td>\n",
       "      <td>2021-07-26 12:28:57</td>\n",
       "      <td>2021-07-26 12:30:21</td>\n",
       "      <td>6 Ave &amp; Broome St</td>\n",
       "      <td>5610.09</td>\n",
       "      <td>6 Ave &amp; Canal St</td>\n",
       "      <td>5500.07</td>\n",
       "      <td>40.724310</td>\n",
       "      <td>-74.004730</td>\n",
       "      <td>40.722438</td>\n",
       "      <td>-74.005664</td>\n",
       "      <td>casual</td>\n",
       "      <td>1.400000</td>\n",
       "    </tr>\n",
       "  </tbody>\n",
       "</table>\n",
       "</div>"
      ],
      "text/plain": [
       "            ride_id rideable_type          started_at            ended_at  \\\n",
       "0  247BA541A9674BF3  classic_bike 2021-07-09 16:05:36 2021-07-09 16:18:09   \n",
       "1  125C9ACA270A5E2D  classic_bike 2021-07-11 16:23:35 2021-07-11 16:29:07   \n",
       "2  2E26264BCC15BA05  classic_bike 2021-07-23 06:22:40 2021-07-23 06:36:13   \n",
       "3  A56D23A088563424  classic_bike 2021-07-05 16:08:10 2021-07-05 16:36:00   \n",
       "4  1451F4BB884C5335  classic_bike 2021-07-26 12:28:57 2021-07-26 12:30:21   \n",
       "\n",
       "     start_station_name  start_station_id                    end_station_name  \\\n",
       "0       5 Ave & E 93 St           7372.10  Frederick Douglass Blvd & W 117 St   \n",
       "1       5 Ave & E 93 St           7372.10                  E 88 St & Park Ave   \n",
       "2        34 St & 38 Ave           6453.02          McGuinness Blvd & Eagle St   \n",
       "3  Lenox Ave & W 111 St           7602.05                     5 Ave & E 78 St   \n",
       "4     6 Ave & Broome St           5610.09                    6 Ave & Canal St   \n",
       "\n",
       "  end_station_id  start_lat  start_lng    end_lat    end_lng member_casual  \\\n",
       "0        7688.12  40.785785 -73.957481  40.805159 -73.954692        member   \n",
       "1        7293.10  40.785785 -73.957481  40.781411 -73.955959        member   \n",
       "2        5977.01  40.752443 -73.929737  40.735550 -73.952840        member   \n",
       "3        7161.08  40.798786 -73.952300  40.776321 -73.964274        casual   \n",
       "4        5500.07  40.724310 -74.004730  40.722438 -74.005664        casual   \n",
       "\n",
       "    duration  \n",
       "0  12.550000  \n",
       "1   5.533333  \n",
       "2  13.550000  \n",
       "3  27.833333  \n",
       "4   1.400000  "
      ]
     },
     "execution_count": 15,
     "metadata": {},
     "output_type": "execute_result"
    }
   ],
   "source": [
    "df.head()"
   ]
  },
  {
   "cell_type": "code",
   "execution_count": 16,
   "metadata": {
    "colab": {
     "base_uri": "https://localhost:8080/",
     "height": 282
    },
    "id": "-KlM_vsU0r7B",
    "outputId": "386e07ae-d9dd-4404-a4b4-47563b50cd3c"
   },
   "outputs": [
    {
     "data": {
      "text/plain": [
       "<AxesSubplot:ylabel='Frequency'>"
      ]
     },
     "execution_count": 16,
     "metadata": {},
     "output_type": "execute_result"
    },
    {
     "data": {
      "image/png": "[encoded data removed]",
      "text/plain": [
       "<Figure size 432x288 with 1 Axes>"
      ]
     },
     "metadata": {
      "needs_background": "light"
     },
     "output_type": "display_data"
    }
   ],
   "source": [
    "dfh = df[['ride_id','duration']]\n",
    "dfh.plot.hist(bins=12, alpha=0.5)"
   ]
  },
  {
   "cell_type": "code",
   "execution_count": 18,
   "metadata": {
    "id": "eeVuaU2T-mSS"
   },
   "outputs": [
    {
     "name": "stdout",
     "output_type": "stream",
     "text": [
      "Expected ride duration:  18.024970316992995\n",
      "Variance in ride duration:  6915.026259465492\n",
      "Probability of ride lasting > 20 mins:  0.24975125926516686\n"
     ]
    }
   ],
   "source": [
    "# 2. What is the expected ride duration (i.e., the average ride duration)? \n",
    "\n",
    "exp_duration = df['duration'].sum()/n\n",
    "print(\"Expected ride duration: \", exp_duration)\n",
    "\n",
    "# What is the empirical variance of ride duration? \n",
    "\n",
    "# var(X) = E[X^2] - E[X]^2\n",
    "\n",
    "df['sq_duration'] = df['duration']**2\n",
    "exp_sq_duration = df['sq_duration'].sum()/n\n",
    "#print(exp_sq_duration)\n",
    "\n",
    "var_duration = exp_sq_duration - exp_duration**2 \n",
    "print(\"Variance in ride duration: \", var_duration)\n",
    "\n",
    "# What is the probability that a ride duration is greater than 20 min?\n",
    "over_20 = 0\n",
    "for i in range(n):\n",
    "    if df['duration'][i] > 20:\n",
    "        over_20 += 1\n",
    "        \n",
    "p_over_20 = over_20/n\n",
    "print(\"Probability of ride lasting > 20 mins: \", p_over_20) "
   ]
  },
  {
   "cell_type": "code",
   "execution_count": 26,
   "metadata": {},
   "outputs": [
    {
     "name": "stdout",
     "output_type": "stream",
     "text": [
      "0.1942044473470034\n"
     ]
    }
   ],
   "source": [
    "# 3. What is the probability that a ride duration is greater than 20 min conditioning on the fact that the user is a CitiBike member?\n",
    "\n",
    "over_20_member = 0\n",
    "member_rides = 0\n",
    "casual_rides = 0\n",
    "for i in range(n):\n",
    "    if df['member_casual'][i] == 'member':\n",
    "        member_rides += 1\n",
    "        if df['duration'][i] > 20: #only count rides over 20 min for which the user is a member\n",
    "            over_20_member += 1\n",
    "    \n",
    "    elif df['member_casual'][i] == 'casual':\n",
    "        casual_rides += 1\n",
    "        \n",
    "p_over_20_mem = over_20_member/member_rides\n",
    "print(p_over_20_mem)"
   ]
  },
  {
   "cell_type": "code",
   "execution_count": 23,
   "metadata": {},
   "outputs": [
    {
     "data": {
      "text/plain": [
       "0.4828191891922421"
      ]
     },
     "execution_count": 23,
     "metadata": {},
     "output_type": "execute_result"
    }
   ],
   "source": [
    "# 4.Suppose that the duration of some ride is more than 25min. What is the probability that this ride belongs to a CitiBike member?\n",
    "\n",
    "# Bayes: P(Member|25+) = P(25+|Member)*P(Member)/( P(25+|Member)*P(Member) + P(25+|Casual)*P(Casual))\n",
    "\n",
    "#compute P(Member) and P(Casual)\n",
    "p_member = member_rides/n\n",
    "p_casual = casual_rides/n\n",
    "\n",
    "# P(25+|Member) and P(25+|Casual)\n",
    "over25_member = 0\n",
    "over25_casual = 0\n",
    "for i in range(n):\n",
    "    if df['duration'][i] > 25:\n",
    "        if df['member_casual'][i] == 'member':\n",
    "            over25_member += 1\n",
    "        else:\n",
    "            over25_casual += 1\n",
    "\n",
    "p_over25_member = over25_member/member_rides\n",
    "p_over25_casual = over25_casual/casual_rides\n",
    "\n",
    "numerator = p_over25_member * p_member\n",
    "denominator = p_over25_member * p_member + p_over25_casual * p_casual\n",
    "\n",
    "p_member_given_over25 = numerator/denominator\n",
    "\n",
    "p_member_given_over25\n",
    "\n",
    "\n"
   ]
  },
  {
   "cell_type": "code",
   "execution_count": 42,
   "metadata": {},
   "outputs": [
    {
     "name": "stdout",
     "output_type": "stream",
     "text": [
      "[0.2915451895043732, 0.23323615160349853, 0.10204081632653061, 0.0029154518950437317, 0.0, 0.0, 0.0]\n",
      "7\n",
      "7\n",
      "7\n",
      "7\n",
      "7\n",
      "7\n",
      "7\n"
     ]
    }
   ],
   "source": [
    "# function to build a transition matrix given transition frequencies\n",
    "# frequencies is an array of length 2*(station capacity) + 1:\n",
    "\n",
    "f = [0, 0, 0, 3, 40, 84, 100, 80, 35, 1, 0, 0, 0] #capacity 6 example\n",
    "#   [-6,-5,-4,-3,-2, -1,  0,  +1, +2,+3,+4,+5,+6]\n",
    "\n",
    "def matrix(frequencies):\n",
    "    \n",
    "    m = len(frequencies) #note that m is always odd\n",
    "    rides = sum(frequencies)\n",
    "    \n",
    "    probs = [freq/rides for freq in frequencies]\n",
    "    \n",
    "    zero_index = int(m/2)\n",
    "    rows = []\n",
    "    for i in range(int(m/2) + 1):\n",
    "        r = probs[zero_index - i : m - i]\n",
    "        rows.append(r)\n",
    "        s = sum(rows[-1])\n",
    "        rows[-1] = [p/s for p in rows[-1]]\n",
    "        \n",
    "    return rows\n",
    "\n",
    "#matrix(f)\n",
    "for row in matrix(f):\n",
    "    print(len(row))\n",
    "\n",
    "# freq = [0 for i in range(station_capacity*2 + 1)]\n",
    "# for i in range(108):\n",
    "    \n",
    "#     net_change = 0\n",
    "    \n",
    "#     if station == True:\n",
    "        \n",
    "#         if start_time >= 5am + 300*i and start_time < 5:05 + 300*i:\n",
    "#             net_change -= 0\n",
    "                \n",
    "#         elif end_time >= 5am + 300*i and end_time < 5:05 + 300*i:\n",
    "#             net_change += 1\n",
    "    \n",
    "#     freq[net_change + station_capacity] += 1\n",
    "    \n"
   ]
  },
  {
   "cell_type": "code",
   "execution_count": null,
   "metadata": {},
   "outputs": [],
   "source": []
  }
 ],
 "metadata": {
  "colab": {
   "collapsed_sections": [],
   "name": "ModelingProject.ipynb",
   "provenance": [],
   "toc_visible": true
  },
  "kernelspec": {
   "display_name": "Python 3",
   "language": "python",
   "name": "python3"
  },
  "language_info": {
   "codemirror_mode": {
    "name": "ipython",
    "version": 3
   },
   "file_extension": ".py",
   "mimetype": "text/x-python",
   "name": "python",
   "nbconvert_exporter": "python",
   "pygments_lexer": "ipython3",
   "version": "3.8.8"
  }
 },
 "nbformat": 4,
 "nbformat_minor": 1
}
